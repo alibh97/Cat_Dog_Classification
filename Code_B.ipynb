{
  "nbformat": 4,
  "nbformat_minor": 0,
  "metadata": {
    "colab": {
      "provenance": [],
      "gpuType": "T4"
    },
    "kernelspec": {
      "name": "python3",
      "display_name": "Python 3"
    },
    "gpuClass": "standard",
    "accelerator": "TPU"
  },
  "cells": [
    {
      "cell_type": "markdown",
      "source": [
        "HW6\n",
        "ALI BEHROUZI 4010724002 "
      ],
      "metadata": {
        "id": "--TV3ibnoPsJ"
      }
    },
    {
      "cell_type": "markdown",
      "metadata": {
        "id": "3DR-eO17geWu"
      },
      "source": [
        "# Convolutional Neural Network"
      ]
    },
    {
      "cell_type": "code",
      "source": [
        "from google.colab import drive\n",
        "drive.mount('/content/gdrive')"
      ],
      "metadata": {
        "colab": {
          "base_uri": "https://localhost:8080/"
        },
        "id": "CTy6Pe0ghhcP",
        "outputId": "32726bb3-b8b6-4c69-9739-17f36205584d"
      },
      "execution_count": 1,
      "outputs": [
        {
          "output_type": "stream",
          "name": "stdout",
          "text": [
            "Drive already mounted at /content/gdrive; to attempt to forcibly remount, call drive.mount(\"/content/gdrive\", force_remount=True).\n"
          ]
        }
      ]
    },
    {
      "cell_type": "markdown",
      "source": [],
      "metadata": {
        "id": "9DakiZzUOSnj"
      }
    },
    {
      "cell_type": "markdown",
      "metadata": {
        "id": "EMefrVPCg-60"
      },
      "source": [
        "### Importing the libraries"
      ]
    },
    {
      "cell_type": "code",
      "source": [
        "import tensorflow as tf\n",
        "from keras.preprocessing.image import ImageDataGenerator"
      ],
      "metadata": {
        "id": "zrGbihRbEJa1"
      },
      "execution_count": 2,
      "outputs": []
    },
    {
      "cell_type": "markdown",
      "metadata": {
        "id": "oxQxCBWyoGPE"
      },
      "source": [
        "## Part 1 - Data Preprocessing"
      ]
    },
    {
      "cell_type": "markdown",
      "metadata": {
        "id": "MvE-heJNo3GG"
      },
      "source": [
        "### Preprocessing the Training set"
      ]
    },
    {
      "cell_type": "code",
      "source": [
        "train_datagen = ImageDataGenerator(\n",
        "      rescale=1./255,\n",
        "      rotation_range=40,\n",
        "      width_shift_range=0.2,\n",
        "      height_shift_range=0.2,\n",
        "      shear_range=0.2,\n",
        "      zoom_range=0.2,\n",
        "      horizontal_flip=True,\n",
        "      fill_mode='nearest'\n",
        "\n",
        "  )\n",
        "training_set= train_datagen.flow_from_directory(\n",
        "    '/content/gdrive/My Drive/dataset/training_set',\n",
        "    target_size=(150,150),\n",
        "    batch_size=32,\n",
        "    class_mode='binary'\n",
        ")"
      ],
      "metadata": {
        "id": "nDi5FCujH0qr",
        "colab": {
          "base_uri": "https://localhost:8080/"
        },
        "outputId": "b339bcce-c720-4b8c-958d-fee8c7d30e9e"
      },
      "execution_count": 4,
      "outputs": [
        {
          "output_type": "stream",
          "name": "stdout",
          "text": [
            "Found 8000 images belonging to 2 classes.\n"
          ]
        }
      ]
    },
    {
      "cell_type": "markdown",
      "metadata": {
        "id": "mrCMmGw9pHys"
      },
      "source": [
        "### Preprocessing the Test set"
      ]
    },
    {
      "cell_type": "code",
      "source": [
        "test_datagen = ImageDataGenerator(\n",
        "      rescale=1./255)\n",
        "test_set=test_datagen.flow_from_directory(\n",
        "    '/content/gdrive/My Drive/dataset/test_set',\n",
        "    target_size=(150,150),\n",
        "    batch_size=32,\n",
        "    class_mode='binary'\n",
        ")"
      ],
      "metadata": {
        "id": "YvwXtNeqKjft",
        "colab": {
          "base_uri": "https://localhost:8080/"
        },
        "outputId": "e942d446-d755-4d9b-d500-98ed7ad69373"
      },
      "execution_count": 5,
      "outputs": [
        {
          "output_type": "stream",
          "name": "stdout",
          "text": [
            "Found 2000 images belonging to 2 classes.\n"
          ]
        }
      ]
    },
    {
      "cell_type": "markdown",
      "metadata": {
        "id": "af8O4l90gk7B"
      },
      "source": [
        "## Part 2 - Building the CNN"
      ]
    },
    {
      "cell_type": "markdown",
      "metadata": {
        "id": "ces1gXY2lmoX"
      },
      "source": [
        "### Initialising the CNN"
      ]
    },
    {
      "cell_type": "code",
      "source": [
        "cnn =tf.keras.models.Sequential()"
      ],
      "metadata": {
        "id": "t9MScLkJMot0"
      },
      "execution_count": 6,
      "outputs": []
    },
    {
      "cell_type": "markdown",
      "metadata": {
        "id": "u5YJj_XMl5LF"
      },
      "source": [
        "### Step 1 - Convolution"
      ]
    },
    {
      "cell_type": "code",
      "source": [
        "cnn.add(tf.keras.layers.Conv2D(filters=32,kernel_size=3,activation='relu',input_shape=[150,150,3]))"
      ],
      "metadata": {
        "id": "FdNBPQGxOZUs"
      },
      "execution_count": 7,
      "outputs": []
    },
    {
      "cell_type": "markdown",
      "metadata": {
        "id": "tf87FpvxmNOJ"
      },
      "source": [
        "### Step 2 - Pooling"
      ]
    },
    {
      "cell_type": "code",
      "source": [
        "cnn.add(tf.keras.layers.MaxPooling2D((2,2)))"
      ],
      "metadata": {
        "id": "_2NbyKvgQ90T"
      },
      "execution_count": 8,
      "outputs": []
    },
    {
      "cell_type": "markdown",
      "metadata": {
        "id": "xaTOgD8rm4mU"
      },
      "source": [
        "### Adding three more convolutional layers"
      ]
    },
    {
      "cell_type": "code",
      "source": [
        "cnn.add(tf.keras.layers.Conv2D(filters=64,kernel_size=3,activation='relu'))\n",
        "cnn.add(tf.keras.layers.MaxPooling2D((2,2)))"
      ],
      "metadata": {
        "id": "qE1ER2qVRviA"
      },
      "execution_count": 9,
      "outputs": []
    },
    {
      "cell_type": "code",
      "source": [
        "cnn.add(tf.keras.layers.Conv2D(filters=128,kernel_size=3,activation='relu'))\n",
        "cnn.add(tf.keras.layers.MaxPooling2D((2,2)))"
      ],
      "metadata": {
        "id": "lS44pvXqxKCq"
      },
      "execution_count": 10,
      "outputs": []
    },
    {
      "cell_type": "code",
      "source": [
        "cnn.add(tf.keras.layers.Conv2D(filters=128,kernel_size=3,activation='relu'))\n",
        "cnn.add(tf.keras.layers.MaxPooling2D((2,2)))"
      ],
      "metadata": {
        "id": "1eeF8ISSxSh7"
      },
      "execution_count": 11,
      "outputs": []
    },
    {
      "cell_type": "markdown",
      "metadata": {
        "id": "tmiEuvTunKfk"
      },
      "source": [
        "### Step 3 - Flattening"
      ]
    },
    {
      "cell_type": "code",
      "source": [
        "cnn.add(tf.keras.layers.Flatten())"
      ],
      "metadata": {
        "id": "tWy96we3SlhJ"
      },
      "execution_count": 12,
      "outputs": []
    },
    {
      "cell_type": "markdown",
      "metadata": {
        "id": "dAoSECOm203v"
      },
      "source": [
        "### Step 4 - Full Connection"
      ]
    },
    {
      "cell_type": "code",
      "source": [
        "cnn.add(tf.keras.layers.Dropout(0.5))"
      ],
      "metadata": {
        "id": "st8VVEKWNqz8"
      },
      "execution_count": 13,
      "outputs": []
    },
    {
      "cell_type": "code",
      "source": [
        "cnn.add(tf.keras.layers.Dense(units=512,activation='relu'))"
      ],
      "metadata": {
        "id": "BalLmq4jTbWf"
      },
      "execution_count": 14,
      "outputs": []
    },
    {
      "cell_type": "markdown",
      "metadata": {
        "id": "yTldFvbX28Na"
      },
      "source": [
        "### Step 5 - Output Layer"
      ]
    },
    {
      "cell_type": "code",
      "source": [
        "cnn.add(tf.keras.layers.Dense(units=1,activation='sigmoid'))"
      ],
      "metadata": {
        "id": "M8AMoCpnUC2v"
      },
      "execution_count": 15,
      "outputs": []
    },
    {
      "cell_type": "markdown",
      "metadata": {
        "id": "D6XkI90snSDl"
      },
      "source": [
        "## Part 3 - Training the CNN"
      ]
    },
    {
      "cell_type": "markdown",
      "metadata": {
        "id": "vfrFQACEnc6i"
      },
      "source": [
        "### Compiling the CNN"
      ]
    },
    {
      "cell_type": "code",
      "source": [
        "cnn.compile(optimizer='adam',loss='binary_crossentropy',metrics=['accuracy'])"
      ],
      "metadata": {
        "id": "SIW247n4Xz3l"
      },
      "execution_count": 16,
      "outputs": []
    },
    {
      "cell_type": "markdown",
      "metadata": {
        "id": "ehS-v3MIpX2h"
      },
      "source": [
        "### Training the CNN on the Training set and evaluating it on the Test set"
      ]
    },
    {
      "cell_type": "code",
      "source": [
        "history=cnn.fit(x=training_set,validation_data=test_set,epochs=30)"
      ],
      "metadata": {
        "id": "fvrZnP--Ytjl",
        "colab": {
          "base_uri": "https://localhost:8080/"
        },
        "outputId": "7654f31e-1ef2-4e35-d989-028dc0ab3e79"
      },
      "execution_count": 17,
      "outputs": [
        {
          "output_type": "stream",
          "name": "stdout",
          "text": [
            "Epoch 1/30\n",
            "250/250 [==============================] - 1219s 5s/step - loss: 0.6908 - accuracy: 0.5286 - val_loss: 0.6994 - val_accuracy: 0.5070\n",
            "Epoch 2/30\n",
            "250/250 [==============================] - 710s 3s/step - loss: 0.6923 - accuracy: 0.4997 - val_loss: 0.6912 - val_accuracy: 0.5000\n",
            "Epoch 3/30\n",
            "250/250 [==============================] - 670s 3s/step - loss: 0.6823 - accuracy: 0.5515 - val_loss: 0.6676 - val_accuracy: 0.6130\n",
            "Epoch 4/30\n",
            "250/250 [==============================] - 713s 3s/step - loss: 0.6666 - accuracy: 0.5834 - val_loss: 0.6622 - val_accuracy: 0.5970\n",
            "Epoch 5/30\n",
            "250/250 [==============================] - 707s 3s/step - loss: 0.6456 - accuracy: 0.6210 - val_loss: 0.6117 - val_accuracy: 0.6770\n",
            "Epoch 6/30\n",
            "250/250 [==============================] - 669s 3s/step - loss: 0.6219 - accuracy: 0.6501 - val_loss: 0.5785 - val_accuracy: 0.7080\n",
            "Epoch 7/30\n",
            "250/250 [==============================] - 712s 3s/step - loss: 0.6004 - accuracy: 0.6725 - val_loss: 0.5844 - val_accuracy: 0.6800\n",
            "Epoch 8/30\n",
            "250/250 [==============================] - 709s 3s/step - loss: 0.5776 - accuracy: 0.7001 - val_loss: 0.5260 - val_accuracy: 0.7445\n",
            "Epoch 9/30\n",
            "250/250 [==============================] - 665s 3s/step - loss: 0.5588 - accuracy: 0.7100 - val_loss: 0.6134 - val_accuracy: 0.6675\n",
            "Epoch 10/30\n",
            "250/250 [==============================] - 702s 3s/step - loss: 0.5525 - accuracy: 0.7197 - val_loss: 0.4834 - val_accuracy: 0.7675\n",
            "Epoch 11/30\n",
            "250/250 [==============================] - 699s 3s/step - loss: 0.5361 - accuracy: 0.7276 - val_loss: 0.4883 - val_accuracy: 0.7645\n",
            "Epoch 12/30\n",
            "250/250 [==============================] - 709s 3s/step - loss: 0.5316 - accuracy: 0.7310 - val_loss: 0.4699 - val_accuracy: 0.7745\n",
            "Epoch 13/30\n",
            "250/250 [==============================] - 710s 3s/step - loss: 0.5175 - accuracy: 0.7430 - val_loss: 0.4452 - val_accuracy: 0.7915\n",
            "Epoch 14/30\n",
            "250/250 [==============================] - 663s 3s/step - loss: 0.4972 - accuracy: 0.7605 - val_loss: 0.4752 - val_accuracy: 0.7640\n",
            "Epoch 15/30\n",
            "250/250 [==============================] - 672s 3s/step - loss: 0.4952 - accuracy: 0.7586 - val_loss: 0.4114 - val_accuracy: 0.8145\n",
            "Epoch 16/30\n",
            "250/250 [==============================] - 706s 3s/step - loss: 0.4806 - accuracy: 0.7755 - val_loss: 0.4154 - val_accuracy: 0.8120\n",
            "Epoch 17/30\n",
            "250/250 [==============================] - 695s 3s/step - loss: 0.4782 - accuracy: 0.7707 - val_loss: 0.3855 - val_accuracy: 0.8260\n",
            "Epoch 18/30\n",
            "250/250 [==============================] - 699s 3s/step - loss: 0.4658 - accuracy: 0.7824 - val_loss: 0.3559 - val_accuracy: 0.8520\n",
            "Epoch 19/30\n",
            "250/250 [==============================] - 660s 3s/step - loss: 0.4446 - accuracy: 0.7904 - val_loss: 0.3768 - val_accuracy: 0.8340\n",
            "Epoch 20/30\n",
            "250/250 [==============================] - 672s 3s/step - loss: 0.4349 - accuracy: 0.7991 - val_loss: 0.3481 - val_accuracy: 0.8540\n",
            "Epoch 21/30\n",
            "250/250 [==============================] - 709s 3s/step - loss: 0.4352 - accuracy: 0.7991 - val_loss: 0.3348 - val_accuracy: 0.8575\n",
            "Epoch 22/30\n",
            "250/250 [==============================] - 658s 3s/step - loss: 0.4220 - accuracy: 0.8062 - val_loss: 0.3797 - val_accuracy: 0.8275\n",
            "Epoch 23/30\n",
            "250/250 [==============================] - 694s 3s/step - loss: 0.4228 - accuracy: 0.8050 - val_loss: 0.3277 - val_accuracy: 0.8570\n",
            "Epoch 24/30\n",
            "250/250 [==============================] - 677s 3s/step - loss: 0.4059 - accuracy: 0.8141 - val_loss: 0.3135 - val_accuracy: 0.8680\n",
            "Epoch 25/30\n",
            "250/250 [==============================] - 624s 2s/step - loss: 0.4070 - accuracy: 0.8175 - val_loss: 0.3105 - val_accuracy: 0.8620\n",
            "Epoch 26/30\n",
            "250/250 [==============================] - 670s 3s/step - loss: 0.3967 - accuracy: 0.8164 - val_loss: 0.3377 - val_accuracy: 0.8490\n",
            "Epoch 27/30\n",
            "250/250 [==============================] - 680s 3s/step - loss: 0.3925 - accuracy: 0.8220 - val_loss: 0.3170 - val_accuracy: 0.8745\n",
            "Epoch 28/30\n",
            "250/250 [==============================] - 699s 3s/step - loss: 0.3813 - accuracy: 0.8290 - val_loss: 0.3301 - val_accuracy: 0.8510\n",
            "Epoch 29/30\n",
            "250/250 [==============================] - 662s 3s/step - loss: 0.3776 - accuracy: 0.8296 - val_loss: 0.2951 - val_accuracy: 0.8720\n",
            "Epoch 30/30\n",
            "250/250 [==============================] - 635s 3s/step - loss: 0.3696 - accuracy: 0.8321 - val_loss: 0.3148 - val_accuracy: 0.8675\n"
          ]
        }
      ]
    },
    {
      "cell_type": "code",
      "source": [
        "import numpy as np"
      ],
      "metadata": {
        "id": "MQJHr46IceUk"
      },
      "execution_count": 18,
      "outputs": []
    },
    {
      "cell_type": "code",
      "source": [
        "import matplotlib.pyplot as plt\n",
        "\n",
        "history_dict = history.history\n",
        "\n",
        "epochs = range(1, 30 + 1)\n",
        "\n",
        "acc_values = history_dict['accuracy']\n",
        "val_acc_values = history_dict['val_accuracy']\n",
        "\n",
        "plt.plot(epochs,acc_values,'bo',label='Training acc')\n",
        "plt.plot(epochs,val_acc_values,'b',label='Validation acc')\n",
        "plt.title('Training and validation accuracy')\n",
        "plt.xlabel('Epochs')\n",
        "plt.ylabel('Accuracy')\n",
        "plt.legend()\n",
        "\n",
        "plt.show()"
      ],
      "metadata": {
        "id": "E7iWHfNLhdSt",
        "colab": {
          "base_uri": "https://localhost:8080/",
          "height": 472
        },
        "outputId": "f14eb704-2cf6-486f-b309-e0f405958a6c"
      },
      "execution_count": 19,
      "outputs": [
        {
          "output_type": "display_data",
          "data": {
            "text/plain": [
              "<Figure size 640x480 with 1 Axes>"
            ],
            "image/png": "[encoded data removed]"
          },
          "metadata": {}
        }
      ]
    },
    {
      "cell_type": "code",
      "source": [
        "# Find the epoch with the best validation accuracy\n",
        "best_epoch = np.argmax(val_acc_values)\n",
        "\n",
        "# Print the training and validation accuracy for the best epoch\n",
        "print(f\"Best Epoch: {best_epoch + 1}\")\n",
        "print(f\"Training Accuracy: {acc_values[best_epoch]}\")\n",
        "print(f\"Validation Accuracy: {val_acc_values[best_epoch]}\")"
      ],
      "metadata": {
        "id": "r1b6J0rgv54G",
        "colab": {
          "base_uri": "https://localhost:8080/"
        },
        "outputId": "57ff58b0-e51a-460a-db10-9cd777b8b604"
      },
      "execution_count": 20,
      "outputs": [
        {
          "output_type": "stream",
          "name": "stdout",
          "text": [
            "Best Epoch: 27\n",
            "Training Accuracy: 0.8220000267028809\n",
            "Validation Accuracy: 0.8744999766349792\n"
          ]
        }
      ]
    },
    {
      "cell_type": "markdown",
      "metadata": {
        "id": "U3PZasO0006Z"
      },
      "source": [
        "## Part 4 - Making a single prediction"
      ]
    },
    {
      "cell_type": "code",
      "source": [
        "from tensorflow.keras.preprocessing import image\n",
        "test_image = image.load_img('/content/gdrive/My Drive/dataset/single_prediction/cat_or_dog_1.jpg', target_size = (150, 150)) # this is a dog picture\n",
        "test_image = image.img_to_array(test_image)\n",
        "test_image = np.expand_dims(test_image, axis = 0)\n",
        "result = cnn.predict(test_image)\n",
        "cnn.save('cd.h5')\n",
        "training_set.class_indices\n",
        "if result[0][0] == 1:\n",
        "  prediction = 'dog'\n",
        "else:\n",
        "  prediction = 'cat'\n",
        "\n",
        "print(prediction)"
      ],
      "metadata": {
        "colab": {
          "base_uri": "https://localhost:8080/"
        },
        "id": "sA_6yuAcnCPq",
        "outputId": "66a3cda1-39fa-4138-8a63-5fc6bbbb23d1"
      },
      "execution_count": 21,
      "outputs": [
        {
          "output_type": "stream",
          "name": "stdout",
          "text": [
            "1/1 [==============================] - 1s 538ms/step\n",
            "dog\n"
          ]
        }
      ]
    }
  ]
}