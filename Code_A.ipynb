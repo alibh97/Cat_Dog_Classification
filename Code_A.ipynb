{
 "nbformat": 4,
 "nbformat_minor": 0,
 "metadata": {
  "colab": {
   "provenance": [],
   "gpuType": "T4"
  },
  "kernelspec": {
   "name": "python3",
   "display_name": "Python 3"
  },
  "gpuClass": "standard",
  "accelerator": "GPU"
 },
 "cells": [
  {
   "cell_type": "markdown",
   "source": [
    "HW6\n",
    "ALI BEHROUZI 4010724002 "
   ],
   "metadata": {
    "collapsed": false
   }
  },
  {
   "cell_type": "markdown",
   "metadata": {
    "id": "3DR-eO17geWu"
   },
   "source": [
    "# Convolutional Neural Network"
   ]
  },
  {
   "cell_type": "code",
   "source": [
    "from google.colab import drive\n",
    "drive.mount('/content/gdrive')"
   ],
   "metadata": {
    "colab": {
     "base_uri": "https://localhost:8080/"
    },
    "id": "CTy6Pe0ghhcP",
    "outputId": "21a8c879-95c2-4ee7-f0a5-d3cbaf5fabcb"
   },
   "execution_count": null,
   "outputs": [
    {
     "output_type": "stream",
     "name": "stdout",
     "text": [
      "Mounted at /content/gdrive\n"
     ]
    }
   ]
  },
  {
   "cell_type": "markdown",
   "metadata": {
    "id": "EMefrVPCg-60"
   },
   "source": [
    "### Importing the libraries"
   ]
  },
  {
   "cell_type": "code",
   "source": [
    "import tensorflow as tf\n",
    "from keras.preprocessing.image import ImageDataGenerator"
   ],
   "metadata": {
    "id": "zrGbihRbEJa1"
   },
   "execution_count": null,
   "outputs": []
  },
  {
   "cell_type": "markdown",
   "metadata": {
    "id": "oxQxCBWyoGPE"
   },
   "source": [
    "## Part 1 - Data Preprocessing"
   ]
  },
  {
   "cell_type": "markdown",
   "metadata": {
    "id": "MvE-heJNo3GG"
   },
   "source": [
    "### Preprocessing the Training set"
   ]
  },
  {
   "cell_type": "code",
   "source": [
    "train_datagen = ImageDataGenerator(\n",
    "      rescale=1./255,\n",
    "      shear_range=0.2,\n",
    "      zoom_range=0.2,\n",
    "      horizontal_flip=True\n",
    "\n",
    "  )\n",
    "training_set= train_datagen.flow_from_directory(\n",
    "    '/content/gdrive/My Drive/dataset/training_set',\n",
    "    target_size=(150,150),\n",
    "    batch_size=32,\n",
    "    class_mode='binary'\n",
    ")"
   ],
   "metadata": {
    "id": "nDi5FCujH0qr",
    "colab": {
     "base_uri": "https://localhost:8080/"
    },
    "outputId": "a0cb76b2-fd8a-4160-f2d6-c5ff13b900d4"
   },
   "execution_count": null,
   "outputs": [
    {
     "output_type": "stream",
     "name": "stdout",
     "text": [
      "Found 8000 images belonging to 2 classes.\n"
     ]
    }
   ]
  },
  {
   "cell_type": "markdown",
   "metadata": {
    "id": "mrCMmGw9pHys"
   },
   "source": [
    "### Preprocessing the Test set"
   ]
  },
  {
   "cell_type": "code",
   "source": [
    "test_datagen = ImageDataGenerator(\n",
    "      rescale=1./255)\n",
    "test_set=test_datagen.flow_from_directory(\n",
    "    '/content/gdrive/My Drive/dataset/test_set',\n",
    "    target_size=(150,150),\n",
    "    batch_size=32,\n",
    "    class_mode='binary'\n",
    ")"
   ],
   "metadata": {
    "id": "YvwXtNeqKjft",
    "colab": {
     "base_uri": "https://localhost:8080/"
    },
    "outputId": "a6f05c2c-983a-4906-ad2a-67d86f1e5fda"
   },
   "execution_count": null,
   "outputs": [
    {
     "output_type": "stream",
     "name": "stdout",
     "text": [
      "Found 2000 images belonging to 2 classes.\n"
     ]
    }
   ]
  },
  {
   "cell_type": "markdown",
   "metadata": {
    "id": "af8O4l90gk7B"
   },
   "source": [
    "## Part 2 - Building the CNN"
   ]
  },
  {
   "cell_type": "markdown",
   "metadata": {
    "id": "ces1gXY2lmoX"
   },
   "source": [
    "### Initialising the CNN"
   ]
  },
  {
   "cell_type": "code",
   "source": [
    "cnn =tf.keras.models.Sequential()"
   ],
   "metadata": {
    "id": "t9MScLkJMot0"
   },
   "execution_count": null,
   "outputs": []
  },
  {
   "cell_type": "markdown",
   "metadata": {
    "id": "u5YJj_XMl5LF"
   },
   "source": [
    "### Step 1 - Convolution"
   ]
  },
  {
   "cell_type": "code",
   "source": [
    "cnn.add(tf.keras.layers.Conv2D(filters=32,kernel_size=3,activation='relu',input_shape=[150,150,3]))"
   ],
   "metadata": {
    "id": "FdNBPQGxOZUs"
   },
   "execution_count": null,
   "outputs": []
  },
  {
   "cell_type": "markdown",
   "metadata": {
    "id": "tf87FpvxmNOJ"
   },
   "source": [
    "### Step 2 - Pooling"
   ]
  },
  {
   "cell_type": "code",
   "source": [
    "cnn.add(tf.keras.layers.MaxPooling2D((2,2)))"
   ],
   "metadata": {
    "id": "_2NbyKvgQ90T"
   },
   "execution_count": null,
   "outputs": []
  },
  {
   "cell_type": "markdown",
   "metadata": {
    "id": "xaTOgD8rm4mU"
   },
   "source": [
    "### Adding a second convolutional layer"
   ]
  },
  {
   "cell_type": "code",
   "source": [
    "cnn.add(tf.keras.layers.Conv2D(filters=64,kernel_size=3,activation='relu'))\n",
    "cnn.add(tf.keras.layers.MaxPooling2D((2,2)))"
   ],
   "metadata": {
    "id": "qE1ER2qVRviA"
   },
   "execution_count": null,
   "outputs": []
  },
  {
   "cell_type": "code",
   "source": [
    "cnn.add(tf.keras.layers.Conv2D(filters=128,kernel_size=3,activation='relu'))\n",
    "cnn.add(tf.keras.layers.MaxPooling2D((2,2)))"
   ],
   "metadata": {
    "id": "lS44pvXqxKCq"
   },
   "execution_count": null,
   "outputs": []
  },
  {
   "cell_type": "code",
   "source": [
    "cnn.add(tf.keras.layers.Conv2D(filters=128,kernel_size=3,activation='relu'))\n",
    "cnn.add(tf.keras.layers.MaxPooling2D((2,2)))"
   ],
   "metadata": {
    "id": "1eeF8ISSxSh7"
   },
   "execution_count": null,
   "outputs": []
  },
  {
   "cell_type": "markdown",
   "metadata": {
    "id": "tmiEuvTunKfk"
   },
   "source": [
    "### Step 3 - Flattening"
   ]
  },
  {
   "cell_type": "code",
   "source": [
    "cnn.add(tf.keras.layers.Flatten())"
   ],
   "metadata": {
    "id": "tWy96we3SlhJ"
   },
   "execution_count": null,
   "outputs": []
  },
  {
   "cell_type": "markdown",
   "metadata": {
    "id": "dAoSECOm203v"
   },
   "source": [
    "### Step 4 - Full Connection"
   ]
  },
  {
   "cell_type": "code",
   "source": [
    "cnn.add(tf.keras.layers.Dense(units=512,activation='relu'))"
   ],
   "metadata": {
    "id": "BalLmq4jTbWf"
   },
   "execution_count": null,
   "outputs": []
  },
  {
   "cell_type": "markdown",
   "metadata": {
    "id": "yTldFvbX28Na"
   },
   "source": [
    "### Step 5 - Output Layer"
   ]
  },
  {
   "cell_type": "code",
   "source": [
    "cnn.add(tf.keras.layers.Dense(units=1,activation='sigmoid'))"
   ],
   "metadata": {
    "id": "M8AMoCpnUC2v"
   },
   "execution_count": null,
   "outputs": []
  },
  {
   "cell_type": "markdown",
   "metadata": {
    "id": "D6XkI90snSDl"
   },
   "source": [
    "## Part 3 - Training the CNN"
   ]
  },
  {
   "cell_type": "markdown",
   "metadata": {
    "id": "vfrFQACEnc6i"
   },
   "source": [
    "### Compiling the CNN"
   ]
  },
  {
   "cell_type": "code",
   "source": [
    "cnn.compile(optimizer='adam',loss='binary_crossentropy',metrics=['accuracy'])"
   ],
   "metadata": {
    "id": "SIW247n4Xz3l"
   },
   "execution_count": null,
   "outputs": []
  },
  {
   "cell_type": "markdown",
   "metadata": {
    "id": "ehS-v3MIpX2h"
   },
   "source": [
    "### Training the CNN on the Training set and evaluating it on the Test set"
   ]
  },
  {
   "cell_type": "code",
   "source": [
    "history=cnn.fit(x=training_set,validation_data=test_set,epochs=30)"
   ],
   "metadata": {
    "id": "fvrZnP--Ytjl",
    "colab": {
     "base_uri": "https://localhost:8080/"
    },
    "outputId": "0e186892-29a6-46f2-e758-af39d20b9d46"
   },
   "execution_count": null,
   "outputs": [
    {
     "output_type": "stream",
     "name": "stdout",
     "text": [
      "Epoch 1/30\n",
      "250/250 [==============================] - 4160s 17s/step - loss: 0.6759 - accuracy: 0.5624 - val_loss: 0.5992 - val_accuracy: 0.6865\n",
      "Epoch 2/30\n",
      "250/250 [==============================] - 88s 350ms/step - loss: 0.6100 - accuracy: 0.6616 - val_loss: 0.5475 - val_accuracy: 0.7360\n",
      "Epoch 3/30\n",
      "250/250 [==============================] - 88s 350ms/step - loss: 0.5606 - accuracy: 0.7129 - val_loss: 0.5209 - val_accuracy: 0.7500\n",
      "Epoch 4/30\n",
      "250/250 [==============================] - 90s 360ms/step - loss: 0.5114 - accuracy: 0.7515 - val_loss: 0.4934 - val_accuracy: 0.7605\n",
      "Epoch 5/30\n",
      "250/250 [==============================] - 93s 372ms/step - loss: 0.4757 - accuracy: 0.7759 - val_loss: 0.5020 - val_accuracy: 0.7615\n",
      "Epoch 6/30\n",
      "250/250 [==============================] - 90s 361ms/step - loss: 0.4486 - accuracy: 0.7884 - val_loss: 0.4192 - val_accuracy: 0.8135\n",
      "Epoch 7/30\n",
      "250/250 [==============================] - 91s 365ms/step - loss: 0.4279 - accuracy: 0.7990 - val_loss: 0.4129 - val_accuracy: 0.8210\n",
      "Epoch 8/30\n",
      "250/250 [==============================] - 91s 363ms/step - loss: 0.3905 - accuracy: 0.8232 - val_loss: 0.3664 - val_accuracy: 0.8390\n",
      "Epoch 9/30\n",
      "250/250 [==============================] - 89s 357ms/step - loss: 0.3757 - accuracy: 0.8288 - val_loss: 0.3773 - val_accuracy: 0.8375\n",
      "Epoch 10/30\n",
      "250/250 [==============================] - 89s 356ms/step - loss: 0.3506 - accuracy: 0.8420 - val_loss: 0.4310 - val_accuracy: 0.8045\n",
      "Epoch 11/30\n",
      "250/250 [==============================] - 92s 366ms/step - loss: 0.3344 - accuracy: 0.8514 - val_loss: 0.3605 - val_accuracy: 0.8455\n",
      "Epoch 12/30\n",
      "250/250 [==============================] - 88s 353ms/step - loss: 0.3068 - accuracy: 0.8639 - val_loss: 0.3006 - val_accuracy: 0.8600\n",
      "Epoch 13/30\n",
      "250/250 [==============================] - 88s 350ms/step - loss: 0.2746 - accuracy: 0.8795 - val_loss: 0.3167 - val_accuracy: 0.8635\n",
      "Epoch 14/30\n",
      "250/250 [==============================] - 89s 357ms/step - loss: 0.2641 - accuracy: 0.8856 - val_loss: 0.3140 - val_accuracy: 0.8660\n",
      "Epoch 15/30\n",
      "250/250 [==============================] - 88s 352ms/step - loss: 0.2401 - accuracy: 0.9015 - val_loss: 0.3013 - val_accuracy: 0.8765\n",
      "Epoch 16/30\n",
      "250/250 [==============================] - 88s 351ms/step - loss: 0.2179 - accuracy: 0.9051 - val_loss: 0.2857 - val_accuracy: 0.8890\n",
      "Epoch 17/30\n",
      "250/250 [==============================] - 90s 359ms/step - loss: 0.2030 - accuracy: 0.9145 - val_loss: 0.3195 - val_accuracy: 0.8760\n",
      "Epoch 18/30\n",
      "250/250 [==============================] - 88s 351ms/step - loss: 0.1919 - accuracy: 0.9178 - val_loss: 0.3184 - val_accuracy: 0.8780\n",
      "Epoch 19/30\n",
      "250/250 [==============================] - 87s 347ms/step - loss: 0.1842 - accuracy: 0.9246 - val_loss: 0.2958 - val_accuracy: 0.8880\n",
      "Epoch 20/30\n",
      "250/250 [==============================] - 90s 358ms/step - loss: 0.1667 - accuracy: 0.9340 - val_loss: 0.3244 - val_accuracy: 0.8865\n",
      "Epoch 21/30\n",
      "250/250 [==============================] - 87s 349ms/step - loss: 0.1618 - accuracy: 0.9335 - val_loss: 0.3619 - val_accuracy: 0.8705\n",
      "Epoch 22/30\n",
      "250/250 [==============================] - 89s 355ms/step - loss: 0.1382 - accuracy: 0.9449 - val_loss: 0.3553 - val_accuracy: 0.8840\n",
      "Epoch 23/30\n",
      "250/250 [==============================] - 90s 362ms/step - loss: 0.1302 - accuracy: 0.9488 - val_loss: 0.3663 - val_accuracy: 0.8915\n",
      "Epoch 24/30\n",
      "250/250 [==============================] - 86s 346ms/step - loss: 0.1191 - accuracy: 0.9534 - val_loss: 0.3383 - val_accuracy: 0.8850\n",
      "Epoch 25/30\n",
      "250/250 [==============================] - 87s 350ms/step - loss: 0.1162 - accuracy: 0.9559 - val_loss: 0.3703 - val_accuracy: 0.8820\n",
      "Epoch 26/30\n",
      "250/250 [==============================] - 89s 355ms/step - loss: 0.1049 - accuracy: 0.9607 - val_loss: 0.3567 - val_accuracy: 0.8985\n",
      "Epoch 27/30\n",
      "250/250 [==============================] - 92s 368ms/step - loss: 0.0985 - accuracy: 0.9605 - val_loss: 0.4422 - val_accuracy: 0.8810\n",
      "Epoch 28/30\n",
      "250/250 [==============================] - 89s 358ms/step - loss: 0.0987 - accuracy: 0.9619 - val_loss: 0.3861 - val_accuracy: 0.8950\n",
      "Epoch 29/30\n",
      "250/250 [==============================] - 90s 360ms/step - loss: 0.0911 - accuracy: 0.9672 - val_loss: 0.4002 - val_accuracy: 0.8880\n",
      "Epoch 30/30\n",
      "250/250 [==============================] - 87s 349ms/step - loss: 0.0862 - accuracy: 0.9686 - val_loss: 0.4878 - val_accuracy: 0.8750\n"
     ]
    }
   ]
  },
  {
   "cell_type": "code",
   "source": [
    "import numpy as np"
   ],
   "metadata": {
    "id": "MQJHr46IceUk"
   },
   "execution_count": null,
   "outputs": []
  },
  {
   "cell_type": "code",
   "source": [
    "import matplotlib.pyplot as plt\n",
    "\n",
    "history_dict = history.history\n",
    "\n",
    "epochs = range(1, 30 + 1)\n",
    "\n",
    "acc_values = history_dict['accuracy']\n",
    "val_acc_values = history_dict['val_accuracy']\n",
    "\n",
    "plt.plot(epochs,acc_values,'bo',label='Training acc')\n",
    "plt.plot(epochs,val_acc_values,'b',label='Validation acc')\n",
    "plt.title('Training and validation accuracy')\n",
    "plt.xlabel('Epochs')\n",
    "plt.ylabel('Accuracy')\n",
    "plt.legend()\n",
    "\n",
    "plt.show()"
   ],
   "metadata": {
    "id": "E7iWHfNLhdSt",
    "colab": {
     "base_uri": "https://localhost:8080/",
     "height": 472
    },
    "outputId": "65de0d76-124c-45ab-dd3b-55f5b7c7b9a7"
   },
   "execution_count": null,
   "outputs": [
    {
     "output_type": "display_data",
     "data": {
      "text/plain": [
       "<Figure size 640x480 with 1 Axes>"
      ],
      "image/png": "[encoded data removed]"
     },
     "metadata": {}
    }
   ]
  },
  {
   "cell_type": "code",
   "source": [
    "# Find the epoch with the best validation accuracy\n",
    "best_epoch = np.argmax(val_acc_values)\n",
    "\n",
    "# Print the training and validation accuracy for the best epoch\n",
    "print(f\"Best Epoch: {best_epoch + 1}\")\n",
    "print(f\"Training Accuracy: {acc_values[best_epoch]}\")\n",
    "print(f\"Validation Accuracy: {val_acc_values[best_epoch]}\")"
   ],
   "metadata": {
    "id": "r1b6J0rgv54G",
    "colab": {
     "base_uri": "https://localhost:8080/"
    },
    "outputId": "a4ac0a3e-0a1a-4bf3-c7df-9fd768627fcb"
   },
   "execution_count": null,
   "outputs": [
    {
     "output_type": "stream",
     "name": "stdout",
     "text": [
      "Best Epoch: 26\n",
      "Training Accuracy: 0.9607499837875366\n",
      "Validation Accuracy: 0.8985000252723694\n"
     ]
    }
   ]
  },
  {
   "cell_type": "markdown",
   "metadata": {
    "id": "U3PZasO0006Z"
   },
   "source": [
    "## Part 4 - Making a single prediction"
   ]
  },
  {
   "cell_type": "code",
   "source": [
    "from tensorflow.keras.preprocessing import image\n",
    "test_image = image.load_img('/content/gdrive/My Drive/dataset/single_prediction/cat_or_dog_1.jpg', target_size = (150, 150)) # this is a dog picture\n",
    "test_image = image.img_to_array(test_image)\n",
    "test_image = np.expand_dims(test_image, axis = 0)\n",
    "result = cnn.predict(test_image)\n",
    "training_set.class_indices\n",
    "if result[0][0] == 1:\n",
    "  prediction = 'dog'\n",
    "else:\n",
    "  prediction = 'cat'\n",
    "\n",
    "print(prediction)"
   ],
   "metadata": {
    "colab": {
     "base_uri": "https://localhost:8080/"
    },
    "id": "sA_6yuAcnCPq",
    "outputId": "ddc95154-73b1-4b97-a89e-94157dca6f76"
   },
   "execution_count": null,
   "outputs": [
    {
     "output_type": "stream",
     "name": "stdout",
     "text": [
      "1/1 [==============================] - 0s 279ms/step\n",
      "dog\n"
     ]
    }
   ]
  }
 ]
}
